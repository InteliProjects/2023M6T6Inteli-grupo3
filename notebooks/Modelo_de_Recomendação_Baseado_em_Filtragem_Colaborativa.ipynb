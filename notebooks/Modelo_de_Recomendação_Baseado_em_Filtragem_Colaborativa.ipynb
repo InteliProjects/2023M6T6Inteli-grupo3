{
  "nbformat": 4,
  "nbformat_minor": 0,
  "metadata": {
    "colab": {
      "provenance": [],
      "collapsed_sections": [
        "TlIOZKh_Vn3f"
      ]
    },
    "kernelspec": {
      "name": "python3",
      "display_name": "Python 3"
    },
    "language_info": {
      "name": "python"
    }
  },
  "cells": [
    {
      "cell_type": "markdown",
      "source": [
        "# Setup"
      ],
      "metadata": {
        "id": "mFf0jOmKsGkm"
      }
    },
    {
      "cell_type": "markdown",
      "source": [
        "## Importação de Bibliotecas"
      ],
      "metadata": {
        "id": "P_4CfVyZsczn"
      }
    },
    {
      "cell_type": "code",
      "source": [
        "from sklearn.neighbors import NearestNeighbors\n",
        "from sklearn.metrics import mean_absolute_error, mean_squared_error\n",
        "import pandas as pd\n",
        "import numpy as np\n",
        "import seaborn as sns\n",
        "\n",
        "np.random.seed(0)"
      ],
      "metadata": {
        "id": "20mIO3BBsKqu"
      },
      "execution_count": null,
      "outputs": []
    },
    {
      "cell_type": "markdown",
      "source": [
        "## Importação dos Dados"
      ],
      "metadata": {
        "id": "3FFSpDPosCgN"
      }
    },
    {
      "cell_type": "code",
      "execution_count": null,
      "metadata": {
        "colab": {
          "base_uri": "https://localhost:8080/"
        },
        "id": "fa3KGKpPGBwj",
        "outputId": "f48dba7a-030d-474f-968a-84944585c644"
      },
      "outputs": [
        {
          "output_type": "stream",
          "name": "stdout",
          "text": [
            "Requirement already satisfied: gdown in /usr/local/lib/python3.10/dist-packages (4.6.6)\n",
            "Requirement already satisfied: filelock in /usr/local/lib/python3.10/dist-packages (from gdown) (3.13.1)\n",
            "Requirement already satisfied: requests[socks] in /usr/local/lib/python3.10/dist-packages (from gdown) (2.31.0)\n",
            "Requirement already satisfied: six in /usr/local/lib/python3.10/dist-packages (from gdown) (1.16.0)\n",
            "Requirement already satisfied: tqdm in /usr/local/lib/python3.10/dist-packages (from gdown) (4.66.1)\n",
            "Requirement already satisfied: beautifulsoup4 in /usr/local/lib/python3.10/dist-packages (from gdown) (4.11.2)\n",
            "Requirement already satisfied: soupsieve>1.2 in /usr/local/lib/python3.10/dist-packages (from beautifulsoup4->gdown) (2.5)\n",
            "Requirement already satisfied: charset-normalizer<4,>=2 in /usr/local/lib/python3.10/dist-packages (from requests[socks]->gdown) (3.3.2)\n",
            "Requirement already satisfied: idna<4,>=2.5 in /usr/local/lib/python3.10/dist-packages (from requests[socks]->gdown) (3.6)\n",
            "Requirement already satisfied: urllib3<3,>=1.21.1 in /usr/local/lib/python3.10/dist-packages (from requests[socks]->gdown) (2.0.7)\n",
            "Requirement already satisfied: certifi>=2017.4.17 in /usr/local/lib/python3.10/dist-packages (from requests[socks]->gdown) (2023.11.17)\n",
            "Requirement already satisfied: PySocks!=1.5.7,>=1.5.6 in /usr/local/lib/python3.10/dist-packages (from requests[socks]->gdown) (1.7.1)\n"
          ]
        }
      ],
      "source": [
        "!pip install gdown"
      ]
    },
    {
      "cell_type": "markdown",
      "source": [
        "Download do arquivo pelo link disponibilizado no Drive"
      ],
      "metadata": {
        "id": "h_F-w2cjq2bN"
      }
    },
    {
      "cell_type": "code",
      "source": [
        "!gdown --id '1TDHXj0Gb9HkztdeAjLmGjYTcxaJn0-it'"
      ],
      "metadata": {
        "colab": {
          "base_uri": "https://localhost:8080/"
        },
        "id": "Xan0GkzyG08H",
        "outputId": "26ca81cf-9511-49c6-847e-f00294aab25b"
      },
      "execution_count": null,
      "outputs": [
        {
          "output_type": "stream",
          "name": "stdout",
          "text": [
            "/usr/local/lib/python3.10/dist-packages/gdown/cli.py:121: FutureWarning: Option `--id` was deprecated in version 4.3.1 and will be removed in 5.0. You don't need to pass it anymore to use a file ID.\n",
            "  warnings.warn(\n",
            "Access denied with the following error:\n",
            "\n",
            " \tCannot retrieve the public link of the file. You may need to change\n",
            "\tthe permission to 'Anyone with the link', or have had many accesses. \n",
            "\n",
            "You may still be able to access the file from the browser:\n",
            "\n",
            "\t https://drive.google.com/uc?id=1TDHXj0Gb9HkztdeAjLmGjYTcxaJn0-it \n",
            "\n"
          ]
        }
      ]
    },
    {
      "cell_type": "code",
      "source": [
        "from google.colab import drive\n",
        "drive.mount('/content/drive')"
      ],
      "metadata": {
        "colab": {
          "base_uri": "https://localhost:8080/",
          "height": 348
        },
        "id": "CUYzJZQFXGOF",
        "outputId": "48b98c74-5e8e-4501-93b2-ef06a5f822ec"
      },
      "execution_count": null,
      "outputs": [
        {
          "output_type": "error",
          "ename": "MessageError",
          "evalue": "ignored",
          "traceback": [
            "\u001b[0;31m---------------------------------------------------------------------------\u001b[0m",
            "\u001b[0;31mMessageError\u001b[0m                              Traceback (most recent call last)",
            "\u001b[0;32m<ipython-input-4-d5df0069828e>\u001b[0m in \u001b[0;36m<cell line: 2>\u001b[0;34m()\u001b[0m\n\u001b[1;32m      1\u001b[0m \u001b[0;32mfrom\u001b[0m \u001b[0mgoogle\u001b[0m\u001b[0;34m.\u001b[0m\u001b[0mcolab\u001b[0m \u001b[0;32mimport\u001b[0m \u001b[0mdrive\u001b[0m\u001b[0;34m\u001b[0m\u001b[0;34m\u001b[0m\u001b[0m\n\u001b[0;32m----> 2\u001b[0;31m \u001b[0mdrive\u001b[0m\u001b[0;34m.\u001b[0m\u001b[0mmount\u001b[0m\u001b[0;34m(\u001b[0m\u001b[0;34m'/content/drive'\u001b[0m\u001b[0;34m)\u001b[0m\u001b[0;34m\u001b[0m\u001b[0;34m\u001b[0m\u001b[0m\n\u001b[0m",
            "\u001b[0;32m/usr/local/lib/python3.10/dist-packages/google/colab/drive.py\u001b[0m in \u001b[0;36mmount\u001b[0;34m(mountpoint, force_remount, timeout_ms, readonly)\u001b[0m\n\u001b[1;32m    101\u001b[0m \u001b[0;32mdef\u001b[0m \u001b[0mmount\u001b[0m\u001b[0;34m(\u001b[0m\u001b[0mmountpoint\u001b[0m\u001b[0;34m,\u001b[0m \u001b[0mforce_remount\u001b[0m\u001b[0;34m=\u001b[0m\u001b[0;32mFalse\u001b[0m\u001b[0;34m,\u001b[0m \u001b[0mtimeout_ms\u001b[0m\u001b[0;34m=\u001b[0m\u001b[0;36m120000\u001b[0m\u001b[0;34m,\u001b[0m \u001b[0mreadonly\u001b[0m\u001b[0;34m=\u001b[0m\u001b[0;32mFalse\u001b[0m\u001b[0;34m)\u001b[0m\u001b[0;34m:\u001b[0m\u001b[0;34m\u001b[0m\u001b[0;34m\u001b[0m\u001b[0m\n\u001b[1;32m    102\u001b[0m   \u001b[0;34m\"\"\"Mount your Google Drive at the specified mountpoint path.\"\"\"\u001b[0m\u001b[0;34m\u001b[0m\u001b[0;34m\u001b[0m\u001b[0m\n\u001b[0;32m--> 103\u001b[0;31m   return _mount(\n\u001b[0m\u001b[1;32m    104\u001b[0m       \u001b[0mmountpoint\u001b[0m\u001b[0;34m,\u001b[0m\u001b[0;34m\u001b[0m\u001b[0;34m\u001b[0m\u001b[0m\n\u001b[1;32m    105\u001b[0m       \u001b[0mforce_remount\u001b[0m\u001b[0;34m=\u001b[0m\u001b[0mforce_remount\u001b[0m\u001b[0;34m,\u001b[0m\u001b[0;34m\u001b[0m\u001b[0;34m\u001b[0m\u001b[0m\n",
            "\u001b[0;32m/usr/local/lib/python3.10/dist-packages/google/colab/drive.py\u001b[0m in \u001b[0;36m_mount\u001b[0;34m(mountpoint, force_remount, timeout_ms, ephemeral, readonly)\u001b[0m\n\u001b[1;32m    130\u001b[0m   )\n\u001b[1;32m    131\u001b[0m   \u001b[0;32mif\u001b[0m \u001b[0mephemeral\u001b[0m\u001b[0;34m:\u001b[0m\u001b[0;34m\u001b[0m\u001b[0;34m\u001b[0m\u001b[0m\n\u001b[0;32m--> 132\u001b[0;31m     _message.blocking_request(\n\u001b[0m\u001b[1;32m    133\u001b[0m         \u001b[0;34m'request_auth'\u001b[0m\u001b[0;34m,\u001b[0m \u001b[0mrequest\u001b[0m\u001b[0;34m=\u001b[0m\u001b[0;34m{\u001b[0m\u001b[0;34m'authType'\u001b[0m\u001b[0;34m:\u001b[0m \u001b[0;34m'dfs_ephemeral'\u001b[0m\u001b[0;34m}\u001b[0m\u001b[0;34m,\u001b[0m \u001b[0mtimeout_sec\u001b[0m\u001b[0;34m=\u001b[0m\u001b[0;32mNone\u001b[0m\u001b[0;34m\u001b[0m\u001b[0;34m\u001b[0m\u001b[0m\n\u001b[1;32m    134\u001b[0m     )\n",
            "\u001b[0;32m/usr/local/lib/python3.10/dist-packages/google/colab/_message.py\u001b[0m in \u001b[0;36mblocking_request\u001b[0;34m(request_type, request, timeout_sec, parent)\u001b[0m\n\u001b[1;32m    174\u001b[0m       \u001b[0mrequest_type\u001b[0m\u001b[0;34m,\u001b[0m \u001b[0mrequest\u001b[0m\u001b[0;34m,\u001b[0m \u001b[0mparent\u001b[0m\u001b[0;34m=\u001b[0m\u001b[0mparent\u001b[0m\u001b[0;34m,\u001b[0m \u001b[0mexpect_reply\u001b[0m\u001b[0;34m=\u001b[0m\u001b[0;32mTrue\u001b[0m\u001b[0;34m\u001b[0m\u001b[0;34m\u001b[0m\u001b[0m\n\u001b[1;32m    175\u001b[0m   )\n\u001b[0;32m--> 176\u001b[0;31m   \u001b[0;32mreturn\u001b[0m \u001b[0mread_reply_from_input\u001b[0m\u001b[0;34m(\u001b[0m\u001b[0mrequest_id\u001b[0m\u001b[0;34m,\u001b[0m \u001b[0mtimeout_sec\u001b[0m\u001b[0;34m)\u001b[0m\u001b[0;34m\u001b[0m\u001b[0;34m\u001b[0m\u001b[0m\n\u001b[0m",
            "\u001b[0;32m/usr/local/lib/python3.10/dist-packages/google/colab/_message.py\u001b[0m in \u001b[0;36mread_reply_from_input\u001b[0;34m(message_id, timeout_sec)\u001b[0m\n\u001b[1;32m    101\u001b[0m     ):\n\u001b[1;32m    102\u001b[0m       \u001b[0;32mif\u001b[0m \u001b[0;34m'error'\u001b[0m \u001b[0;32min\u001b[0m \u001b[0mreply\u001b[0m\u001b[0;34m:\u001b[0m\u001b[0;34m\u001b[0m\u001b[0;34m\u001b[0m\u001b[0m\n\u001b[0;32m--> 103\u001b[0;31m         \u001b[0;32mraise\u001b[0m \u001b[0mMessageError\u001b[0m\u001b[0;34m(\u001b[0m\u001b[0mreply\u001b[0m\u001b[0;34m[\u001b[0m\u001b[0;34m'error'\u001b[0m\u001b[0;34m]\u001b[0m\u001b[0;34m)\u001b[0m\u001b[0;34m\u001b[0m\u001b[0;34m\u001b[0m\u001b[0m\n\u001b[0m\u001b[1;32m    104\u001b[0m       \u001b[0;32mreturn\u001b[0m \u001b[0mreply\u001b[0m\u001b[0;34m.\u001b[0m\u001b[0mget\u001b[0m\u001b[0;34m(\u001b[0m\u001b[0;34m'data'\u001b[0m\u001b[0;34m,\u001b[0m \u001b[0;32mNone\u001b[0m\u001b[0;34m)\u001b[0m\u001b[0;34m\u001b[0m\u001b[0;34m\u001b[0m\u001b[0m\n\u001b[1;32m    105\u001b[0m \u001b[0;34m\u001b[0m\u001b[0m\n",
            "\u001b[0;31mMessageError\u001b[0m: Error: credential propagation was unsuccessful"
          ]
        }
      ]
    },
    {
      "cell_type": "code",
      "source": [
        "# Substitua 'nome_do_arquivo.tsv' pelo nome do seu arquivo\n",
        "data = pd.read_excel('/content/drive/MyDrive/Inteli/M6/Database/bd_limpo.xlsx', engine='openpyxl')\n",
        "data.head(100)"
      ],
      "metadata": {
        "id": "SwSahI5LHrlP"
      },
      "execution_count": null,
      "outputs": []
    },
    {
      "cell_type": "markdown",
      "source": [
        "# Análise Exploratória"
      ],
      "metadata": {
        "id": "rExD4ZOOsrA4"
      }
    },
    {
      "cell_type": "markdown",
      "source": [
        "Dimensão da Base"
      ],
      "metadata": {
        "id": "XAlNeFUZp74D"
      }
    },
    {
      "cell_type": "code",
      "source": [
        "# Número de Linhas e Colunas\n",
        "print(f'Linhas: {data.shape[0]}; Colunas: {data.shape[1]}' )"
      ],
      "metadata": {
        "id": "RHNLF4u9p8N6"
      },
      "execution_count": null,
      "outputs": []
    },
    {
      "cell_type": "markdown",
      "source": [
        "Nomes e tipos das colunas:"
      ],
      "metadata": {
        "id": "niOjNOy3scWr"
      }
    },
    {
      "cell_type": "code",
      "source": [
        "data.dtypes"
      ],
      "metadata": {
        "id": "bmrK_qZuJg4Y"
      },
      "execution_count": null,
      "outputs": []
    },
    {
      "cell_type": "markdown",
      "source": [
        "Renomeia a coluna de avaliação."
      ],
      "metadata": {
        "id": "FQ7bAf7Usmx_"
      }
    },
    {
      "cell_type": "code",
      "source": [
        "data.rename(columns = {0: 'Avaliação'}, inplace = True)"
      ],
      "metadata": {
        "id": "JgbL7qKAJoYC"
      },
      "execution_count": null,
      "outputs": []
    },
    {
      "cell_type": "markdown",
      "source": [
        "Converte a coluna de quantidade"
      ],
      "metadata": {
        "id": "IW917Y1Ow062"
      }
    },
    {
      "cell_type": "code",
      "source": [
        "data[\"Qtde.\"] = pd.to_numeric(data[\"Qtde.\"], errors='coerce')"
      ],
      "metadata": {
        "id": "Bfdjxbtnw0kA"
      },
      "execution_count": null,
      "outputs": []
    },
    {
      "cell_type": "markdown",
      "source": [
        "### Estatísticas Descritivas"
      ],
      "metadata": {
        "id": "g2_D7DULrWs0"
      }
    },
    {
      "cell_type": "code",
      "source": [
        "data[data[\"Avaliação\"]>0].describe().round(2)"
      ],
      "metadata": {
        "id": "8x49g9qRrWUk"
      },
      "execution_count": null,
      "outputs": []
    },
    {
      "cell_type": "markdown",
      "source": [
        "Considerando apenas as avaliações entre 1 e 5, vemos que as avalições tem média de 3.43 e mediana de 4."
      ],
      "metadata": {
        "id": "gH764CjNrdXO"
      }
    },
    {
      "cell_type": "markdown",
      "source": [
        "### Distribuição das Avaliações"
      ],
      "metadata": {
        "id": "uEBz2Vj7q480"
      }
    },
    {
      "cell_type": "code",
      "source": [
        "sns.displot(data=data, x=\"Avaliação\")"
      ],
      "metadata": {
        "id": "uID701dzq5Lh"
      },
      "execution_count": null,
      "outputs": []
    },
    {
      "cell_type": "markdown",
      "source": [
        "Complementamos as estatísticas descritivas das Avaliações com um gráfico de distribuição. Vemos como a avaliação mais comum (moda) é a nota 5, seguida de 4. Logo, as avaliações observadas (desconsiderando o 0) tendem a ser mais positivas.\n",
        "\n",
        "Notamos também que o valor mais comum depois do 5 e 4 é o próprio 0."
      ],
      "metadata": {
        "id": "XeN_g5UPrUJq"
      }
    },
    {
      "cell_type": "markdown",
      "source": [
        "### Padrões de Classificação"
      ],
      "metadata": {
        "id": "42zTNtlfsKhR"
      }
    },
    {
      "cell_type": "markdown",
      "source": [
        "Vemos primeiro a distribuição da avaliação *média* por Escola."
      ],
      "metadata": {
        "id": "QvH9_V4vsRDk"
      }
    },
    {
      "cell_type": "code",
      "source": [
        "sns.displot(data=data[data[\"Avaliação\"]>0].groupby('Escola')['Avaliação'].mean().to_frame(), x=\"Avaliação\")"
      ],
      "metadata": {
        "id": "OVcFilyzsK-R"
      },
      "execution_count": null,
      "outputs": []
    },
    {
      "cell_type": "markdown",
      "source": [
        "Vemos agora a distribuição do desvio padrão da Avaliação por Escola, como medida de dispersão das notas dadas em cada Escola."
      ],
      "metadata": {
        "id": "1ofTNTDIuyDq"
      }
    },
    {
      "cell_type": "code",
      "source": [
        "sns.displot(data=data[data[\"Avaliação\"]>0].groupby('Escola')['Avaliação'].std().to_frame(), x=\"Avaliação\")"
      ],
      "metadata": {
        "id": "4JGLdorouyYW"
      },
      "execution_count": null,
      "outputs": []
    },
    {
      "cell_type": "markdown",
      "source": [
        "Vemos certo grau de dispersão na maioria das escolas (desvio padrão acima entre 1 e 2), enquanto cerca de pouco menos de 400 escolas tem desvio padrão 0, indicando apenas um valor constante de avaliação."
      ],
      "metadata": {
        "id": "sXltoF-8v-a3"
      }
    },
    {
      "cell_type": "markdown",
      "source": [
        "E também analisamos o grau de dispersão das avaliações de uma Escola para um dado Fornecedor e Item:"
      ],
      "metadata": {
        "id": "lsRDuU2dCPXN"
      }
    },
    {
      "cell_type": "code",
      "source": [
        "sns.displot(data=data[data[\"Avaliação\"]>0].groupby(['Escola', 'Fornecedor', 'Item'])['Avaliação'].std().to_frame(), x=\"Avaliação\")"
      ],
      "metadata": {
        "id": "zkEvPNq4CPCC"
      },
      "execution_count": null,
      "outputs": []
    },
    {
      "cell_type": "markdown",
      "source": [
        "Vemos que o grau de dispersão é menor, mas ainda existente."
      ],
      "metadata": {
        "id": "1QW0cboACpFk"
      }
    },
    {
      "cell_type": "markdown",
      "source": [
        "### Popularidade de Fornecedores/Itens:"
      ],
      "metadata": {
        "id": "fMWM032dyvBm"
      }
    },
    {
      "cell_type": "markdown",
      "source": [
        "Vemos a distribuição do número de avaliações por Fornecedor e por Item:"
      ],
      "metadata": {
        "id": "A6aVmoVh4Dd1"
      }
    },
    {
      "cell_type": "code",
      "source": [
        "sns.displot(data=data[data[\"Avaliação\"]>0]['Fornecedor'].value_counts().to_frame(), x=\"Fornecedor\", bins=20)"
      ],
      "metadata": {
        "id": "yuWLyzz33OHU"
      },
      "execution_count": null,
      "outputs": []
    },
    {
      "cell_type": "code",
      "source": [
        "sns.displot(data=data[data[\"Avaliação\"]>0]['Item'].value_counts().to_frame(), x=\"Item\")"
      ],
      "metadata": {
        "id": "JPURTjX228pE"
      },
      "execution_count": null,
      "outputs": []
    },
    {
      "cell_type": "code",
      "source": [
        "data[data[\"Avaliação\"]>0]['Fornecedor'].value_counts().to_frame().describe()"
      ],
      "metadata": {
        "id": "xAaIG-Bs3lki"
      },
      "execution_count": null,
      "outputs": []
    },
    {
      "cell_type": "code",
      "source": [
        "data[data[\"Avaliação\"]>0]['Item'].value_counts().to_frame().describe()"
      ],
      "metadata": {
        "id": "y43H6iaU3lPD"
      },
      "execution_count": null,
      "outputs": []
    },
    {
      "cell_type": "code",
      "source": [
        "data[data[\"Avaliação\"]>0]['Fornecedor'].value_counts().to_frame()"
      ],
      "metadata": {
        "id": "t0215FqS38vI"
      },
      "execution_count": null,
      "outputs": []
    },
    {
      "cell_type": "code",
      "source": [
        "data[data[\"Avaliação\"]>0]['Item'].value_counts().to_frame()"
      ],
      "metadata": {
        "id": "GW9oWAEm35uG"
      },
      "execution_count": null,
      "outputs": []
    },
    {
      "cell_type": "markdown",
      "source": [
        "Notamos alguns Fornecedores outliers, com mais de 3000 avaliações (aprox. Mediana + 2 x Desvio Padrão), como \"RIO OFFICE COMÉRCIO DE MOVEIS E EQUIPAMENTOS EIREL\", que possui mais de 13,000.\n",
        "\n",
        "Também observamos Items com excesso de avaliações, como \"viagens\", com mais de 22,000 avaliações."
      ],
      "metadata": {
        "id": "NxKjsyiN31xB"
      }
    },
    {
      "cell_type": "markdown",
      "source": [
        "### Atividade das Escolas:"
      ],
      "metadata": {
        "id": "E5vPpFcT5JAo"
      }
    },
    {
      "cell_type": "code",
      "source": [
        "data[data[\"Avaliação\"]>0]['Escola'].value_counts().to_frame().describe()"
      ],
      "metadata": {
        "id": "KMGtdAps62jo"
      },
      "execution_count": null,
      "outputs": []
    },
    {
      "cell_type": "code",
      "source": [
        "data[data[\"Avaliação\"]>0]['Escola'].value_counts().to_frame()"
      ],
      "metadata": {
        "id": "39vnvDXq68Bn"
      },
      "execution_count": null,
      "outputs": []
    },
    {
      "cell_type": "markdown",
      "source": [
        "Observamos algumas escolas outliers, com centenas de avaliações feitas, como é o caso da escola \"MARIA DE LOURDES ALMEIDA SINISGALLI PROFA\", com mais de 2,000 avaliações."
      ],
      "metadata": {
        "id": "PcAZ7qI16-yv"
      }
    },
    {
      "cell_type": "code",
      "source": [
        "data[data[\"Avaliação\"]>0][['Escola', 'Fornecedor']].value_counts().to_frame()"
      ],
      "metadata": {
        "id": "VkwbViuP7SgC"
      },
      "execution_count": null,
      "outputs": []
    },
    {
      "cell_type": "markdown",
      "source": [
        "Vemos acima também o número de avaliações para cada par Escola x Fornecedor. A escola com mais avaliações no total, realizou múltiplas avaliações para vários fornecedores."
      ],
      "metadata": {
        "id": "P6ZJIVr-7SQ1"
      }
    },
    {
      "cell_type": "code",
      "source": [
        "data[data[\"Avaliação\"]>0][['Escola', 'Fornecedor', \"Item\"]].value_counts().to_frame()"
      ],
      "metadata": {
        "id": "GRFHY4iA-M_S"
      },
      "execution_count": null,
      "outputs": []
    },
    {
      "cell_type": "markdown",
      "source": [
        "Para um mesmo Item, vemos que uma mesma escola pode utilizar Fornecedores diferentes."
      ],
      "metadata": {
        "id": "Ws6F5MCE-NUa"
      }
    },
    {
      "cell_type": "markdown",
      "source": [
        "# Tratamento dos Dados"
      ],
      "metadata": {
        "id": "lLuQSy-6pvuf"
      }
    },
    {
      "cell_type": "markdown",
      "source": [
        "### Tratamento de Nulos\n",
        "\n"
      ],
      "metadata": {
        "id": "WrhiL4G3VuAi"
      }
    },
    {
      "cell_type": "markdown",
      "source": [
        "Percentual de nulos por coluna:"
      ],
      "metadata": {
        "id": "-K_ElbeUtBof"
      }
    },
    {
      "cell_type": "code",
      "source": [
        "data.isnull().mean() * 100"
      ],
      "metadata": {
        "id": "qEHcMJvEZ8k0"
      },
      "execution_count": null,
      "outputs": []
    },
    {
      "cell_type": "markdown",
      "source": [
        "Se considerarmos os valores de Avaliação = 0 como nulos, vemos que este campo possui percentual elevado de nulos (mais de 20%)."
      ],
      "metadata": {
        "id": "xEQPlmK6AxpG"
      }
    },
    {
      "cell_type": "code",
      "source": [
        "data['Avaliação'].replace(0, np.nan).isnull().mean() * 100"
      ],
      "metadata": {
        "id": "nR188gSVAWCw"
      },
      "execution_count": null,
      "outputs": []
    },
    {
      "cell_type": "markdown",
      "source": [
        "Tratamos aqui as Avalições = 0 como nulos e criamos uma nova base para processamento (df_processed), mantendo a original sem alterações:"
      ],
      "metadata": {
        "id": "mfYt8d48BnX7"
      }
    },
    {
      "cell_type": "code",
      "source": [
        "df_processed = data.copy()\n",
        "df_processed['Avaliação'] = df_processed['Avaliação'].replace(0, np.nan)"
      ],
      "metadata": {
        "id": "9ilXwWHYBtpk"
      },
      "execution_count": null,
      "outputs": []
    },
    {
      "cell_type": "code",
      "source": [
        "df_processed.isnull().mean() * 100"
      ],
      "metadata": {
        "id": "_8bAqe-KB1Qk"
      },
      "execution_count": null,
      "outputs": []
    },
    {
      "cell_type": "markdown",
      "source": [
        "Dos demais campos de maior interesse (Escola e Fornecedor), vemos que o campo de Fornecedor possui número de nulos relativamente alto (13.2%).\n",
        "\n",
        "Dado um Item e uma Escola, poderíamos imputar o valor do Fornecedor mais frequente ou mais recente, mas observamos acima que, para um mesmo Item, uma mesma escola pode utilizar Fornecedores diferentes.\n",
        "\n",
        "Imputar um valor de nome da Escola é ainda mais arriscado, principalmente dado que o código de identificação das Escolas também é nulo na mesma frequência.\n",
        "\n",
        "Portanto, seguimos excluindo quaisquer linhas que tenham o valor de Fornecedor ou Escola nulos."
      ],
      "metadata": {
        "id": "I0A2TMWz9ll8"
      }
    },
    {
      "cell_type": "code",
      "source": [
        "df_processed = df_processed.dropna(subset=['Fornecedor'])\n",
        "df_processed = df_processed.dropna(subset=['Escola'])"
      ],
      "metadata": {
        "id": "jL-tRBIZtwYH"
      },
      "execution_count": null,
      "outputs": []
    },
    {
      "cell_type": "code",
      "source": [
        "df_processed.isnull().mean() * 100"
      ],
      "metadata": {
        "id": "46jWP82DDw2E"
      },
      "execution_count": null,
      "outputs": []
    },
    {
      "cell_type": "markdown",
      "source": [
        "No caso da Avaliação, podemos preencher, quando possível, para uma combinação de Fornecedor, Escola e Item, a mediana da avaliação. Na Análise Exploratória, notamos que existe um grau de dispersão nas avaliações de uma Escola para um Item de um Fornecedor, mas em um grau um pouco menor."
      ],
      "metadata": {
        "id": "27SvhjT29ijQ"
      }
    },
    {
      "cell_type": "code",
      "source": [
        "df_processed['Avaliação'] = df_processed['Avaliação'].fillna(df_processed.groupby(['Escola', 'Fornecedor', 'Item'])['Avaliação'].transform('median'))"
      ],
      "metadata": {
        "id": "SSujum_I_YxO"
      },
      "execution_count": null,
      "outputs": []
    },
    {
      "cell_type": "code",
      "source": [
        "df_processed.isnull().mean() * 100"
      ],
      "metadata": {
        "id": "mIJMNIH5DmqW"
      },
      "execution_count": null,
      "outputs": []
    },
    {
      "cell_type": "markdown",
      "source": [
        "Conseguimos assim reduzir um pouco o percentual de avaliações nulas."
      ],
      "metadata": {
        "id": "sfOXpG6zD3FI"
      }
    },
    {
      "cell_type": "markdown",
      "source": [
        "Removemos os nulos restantes de Avaliação:"
      ],
      "metadata": {
        "id": "NqrLMCx_DLGM"
      }
    },
    {
      "cell_type": "code",
      "source": [
        "df_processed = df_processed.dropna(subset=['Avaliação'])"
      ],
      "metadata": {
        "id": "Zo_h9GCsDJtr"
      },
      "execution_count": null,
      "outputs": []
    },
    {
      "cell_type": "code",
      "source": [
        "print(f'Após o tratamento dos nulos, ficamos com {df_processed.shape[0]} observações')"
      ],
      "metadata": {
        "id": "CvNZCBb3xgrB"
      },
      "execution_count": null,
      "outputs": []
    },
    {
      "cell_type": "code",
      "source": [
        "df_processed.isnull().mean() * 100"
      ],
      "metadata": {
        "id": "EVMH-IOtD-vP"
      },
      "execution_count": null,
      "outputs": []
    },
    {
      "cell_type": "markdown",
      "source": [
        "### Tratamento de outliers"
      ],
      "metadata": {
        "id": "LTzfKYdGwa-U"
      }
    },
    {
      "cell_type": "code",
      "source": [
        "df_processed.describe()"
      ],
      "metadata": {
        "id": "8tjOnUmNtwD1"
      },
      "execution_count": null,
      "outputs": []
    },
    {
      "cell_type": "markdown",
      "source": [
        "Considerando como outlier os valores com distância de pelo menos 2 desvios padrões da média:"
      ],
      "metadata": {
        "id": "PKUsC7HnELIA"
      }
    },
    {
      "cell_type": "code",
      "source": [
        "df_processed[df_processed['Qtde.']>=(38.9+2*70.5)]"
      ],
      "metadata": {
        "id": "pyjm9FPjv_RL"
      },
      "execution_count": null,
      "outputs": []
    },
    {
      "cell_type": "markdown",
      "source": [
        "Valores extremos de quantidade parecem ser coerentes com o tipo de item, então vamos mantê-los.\n",
        "\n",
        "Valores de avaliação estão coerentes, nenhum outlier fora do intervalo 1-5."
      ],
      "metadata": {
        "id": "8RECWDzIyIeK"
      }
    },
    {
      "cell_type": "markdown",
      "source": [
        "# Desenvolvimento do Modelo"
      ],
      "metadata": {
        "id": "JemUgaVHyCdJ"
      }
    },
    {
      "cell_type": "markdown",
      "source": [
        "## Filtragem Colaborativa por Escola"
      ],
      "metadata": {
        "id": "UDt02w65qqd-"
      }
    },
    {
      "cell_type": "markdown",
      "source": [
        "### Criação de Matriz"
      ],
      "metadata": {
        "id": "NYU1PDXvrygx"
      }
    },
    {
      "cell_type": "code",
      "source": [
        "## Cria dataframe de avaliação (Escola x Fornecedor), preenchendo NA com 0\n",
        "pivot_table_mean = df_processed.pivot_table(values='Avaliação', index='Escola', columns='Fornecedor', aggfunc='mean', fill_value=0)\n",
        "pivot_table_mean.sample(10)"
      ],
      "metadata": {
        "id": "aLRGVT7YHGRY"
      },
      "execution_count": null,
      "outputs": []
    },
    {
      "cell_type": "markdown",
      "source": [
        "#### Densidade da Matriz"
      ],
      "metadata": {
        "id": "Yvn-zek72Sg2"
      }
    },
    {
      "cell_type": "markdown",
      "source": [
        "Avaliação de densidade da matriz, considerando 0 como avaliação ausente:"
      ],
      "metadata": {
        "id": "-qOb3Tne0lNE"
      }
    },
    {
      "cell_type": "code",
      "source": [
        "df_nulos = pd.DataFrame(pivot_table_mean.replace(0, np.nan).isnull().mean() * 100, columns=['PctNulos'])\n",
        "sns.displot(data=df_nulos, x=\"PctNulos\")"
      ],
      "metadata": {
        "id": "aaKvBvGKzVOF"
      },
      "execution_count": null,
      "outputs": []
    },
    {
      "cell_type": "code",
      "source": [
        "df_nulos.describe()"
      ],
      "metadata": {
        "id": "WFzaAxei1XZx"
      },
      "execution_count": null,
      "outputs": []
    },
    {
      "cell_type": "markdown",
      "source": [
        "Vemos que cerca de 83.8% da matrix Escola-Fornecedor é nula, indicando grau relativamente elevando de esparsidade (baixa densidade), sugerindo tratamento com técnicas como fatorização."
      ],
      "metadata": {
        "id": "h4Xlda721bhI"
      }
    },
    {
      "cell_type": "code",
      "source": [
        "## Normalizar subtraindo média de cada escola\n",
        "df_normalizado = pivot_table_mean.sub(pivot_table_mean.mean(axis=1), axis=0)\n",
        "df_normalizado"
      ],
      "metadata": {
        "id": "_LQzIgF7rKas"
      },
      "execution_count": null,
      "outputs": []
    },
    {
      "cell_type": "markdown",
      "source": [
        "### Treino do Modelo"
      ],
      "metadata": {
        "id": "IRtYGfwVr2zt"
      }
    },
    {
      "cell_type": "markdown",
      "source": [
        "#### KNN"
      ],
      "metadata": {
        "id": "gQo6Wao4r7p0"
      }
    },
    {
      "cell_type": "code",
      "source": [
        "# Usar o algoritmo KNN com a métrica de similaridade do cosseno, usando valor inicial de k=5 vizinhos\n",
        "knn = NearestNeighbors(metric='cosine', n_neighbors=5, n_jobs=-1)\n",
        "\n",
        "# Ajustar o modelo com os dados normalizados\n",
        "knn.fit(df_normalizado)\n",
        "\n",
        "# Calcular as distâncias e os índices dos vizinhos mais próximos para todos os usuários\n",
        "distances, indices = knn.kneighbors(df_normalizado)"
      ],
      "metadata": {
        "id": "a_nEarNmrpv2"
      },
      "execution_count": null,
      "outputs": []
    },
    {
      "cell_type": "markdown",
      "source": [
        "### Recomendação"
      ],
      "metadata": {
        "id": "LWqNuQ2WtrR6"
      }
    },
    {
      "cell_type": "code",
      "source": [
        "df_normalizado.sample(10)"
      ],
      "metadata": {
        "id": "zKERqFQwvIix"
      },
      "execution_count": null,
      "outputs": []
    },
    {
      "cell_type": "code",
      "source": [
        "# Prevê a Avaliação que uma determinado Escola daria a um determinado Fornecedor.\n",
        "def predict_rating(school_name, supplier_name, data, indices):\n",
        "\n",
        "    school_index = np.where(data.index==school_name)[0][0]\n",
        "\n",
        "    # Seleciona os índices das Escolas mais próximas para a Escola alvo.\n",
        "    neighbor_indices = indices[school_index, 1:]  # Ignora o próprio usuário\n",
        "\n",
        "    # Obtém as classificações que essas Escolas próximas deram para o Fernecedor especificado\n",
        "    neighbor_ratings = data.loc[:, supplier_name].iloc[neighbor_indices]\n",
        "\n",
        "    # Calcular a média das classificações dos vizinhos\n",
        "    predicted_rating = neighbor_ratings.mean()\n",
        "\n",
        "    return predicted_rating"
      ],
      "metadata": {
        "id": "KVOsNbLYrpm4"
      },
      "execution_count": null,
      "outputs": []
    },
    {
      "cell_type": "code",
      "source": [
        "# Exemplo: Prever a Avaliação da Escola \"PARQUE OZIEL\" para o Fornecedor \"WEBLABOR SÃO PAULO MATERIAIS DIDÁTICOS LTDA - EPP\"\n",
        "predict_rating('PARQUE OZIEL',\n",
        "               'WEBLABOR SÃO PAULO MATERIAIS DIDÁTICOS LTDA - EPP',\n",
        "               pivot_table_mean,\n",
        "               indices)"
      ],
      "metadata": {
        "id": "ls90I9XjxiLw"
      },
      "execution_count": null,
      "outputs": []
    },
    {
      "cell_type": "code",
      "source": [
        "# Exemplo: Prever a Avaliação da Escola \"GUSTAVO PECCININI\" para o Fornecedor \"WEBLABOR SÃO PAULO MATERIAIS DIDÁTICOS LTDA - EPP\"\n",
        "predict_rating('GUSTAVO PECCININI',\n",
        "               'AGUAMAR TRANSPORTES LTDA',\n",
        "               pivot_table_mean,\n",
        "               indices)"
      ],
      "metadata": {
        "id": "naK-9PaCo8pB"
      },
      "execution_count": null,
      "outputs": []
    },
    {
      "cell_type": "markdown",
      "source": [
        "### Avaliação dos Resultados"
      ],
      "metadata": {
        "id": "glXmWmbJItJa"
      }
    },
    {
      "cell_type": "markdown",
      "source": [
        "Reorganizamos a matriz Escola-Fornecedor de avaliações médias para ter cada combinação em um linha."
      ],
      "metadata": {
        "id": "RSDOFl_FIwsx"
      }
    },
    {
      "cell_type": "code",
      "source": [
        "df_pivot_reshape = pivot_table_mean.stack().reset_index(name='Avaliação')\n",
        "df_pivot_reshape"
      ],
      "metadata": {
        "id": "0_nMftGaITvY"
      },
      "execution_count": null,
      "outputs": []
    },
    {
      "cell_type": "markdown",
      "source": [
        "Testando função no novo formato dos dados:"
      ],
      "metadata": {
        "id": "4CiOmP3ILMlc"
      }
    },
    {
      "cell_type": "code",
      "source": [
        "df_pivot_reshape[(df_pivot_reshape['Escola']==\"PARQUE OZIEL\")&(df_pivot_reshape['Fornecedor']==\"WEBLABOR SÃO PAULO MATERIAIS DIDÁTICOS LTDA - EPP\")].apply(lambda x: predict_rating(x['Escola'], x['Fornecedor'], data=pivot_table_mean, indices=indices), axis=1)"
      ],
      "metadata": {
        "id": "eFjZGh3MKwGd"
      },
      "execution_count": null,
      "outputs": []
    },
    {
      "cell_type": "markdown",
      "source": [
        "As métricas de avaliação utilizadas, como RMSE (Root Mean Sqaured Error) e MAE (Mean Absolute Error), são comumente empregadas em modelos de recomendação para avaliar quão bem o modelo está performando em relação às previsões feitas em comparação as avaliações reais dos usuários. Focando em cada uma delas, temos:\n",
        "\n",
        "RMSE (Root Mean Squared Erros):\n",
        "- O RMSE é uma métrica que mede a raiz quadrada da média dos quadrados dos erros entre as previsões do modelo e as avaliações reais dos usuários. Valores menores de RMSE indicam que o modelo tem previsões mais precisas, sendo 0 o valor ideal (sem erro).\n",
        "\n",
        "MAE (Mean Absolute Error):\n",
        "- O MAE é uma métrica que calcula a média dos valores absolutos dos erros entre as previsões e as avaliações reais. Além disso, ele fornece uma medida da magnitude média dos erros, sem considerar a direção (subestimação ou superestimação)."
      ],
      "metadata": {
        "id": "njDjs5Dif7vJ"
      }
    },
    {
      "cell_type": "markdown",
      "source": [
        "Selecionamos uma amostra aleatória menor para os cálculos rodarem mais rapidamente no Colab:"
      ],
      "metadata": {
        "id": "vrJj4tUFLWgU"
      }
    },
    {
      "cell_type": "code",
      "source": [
        "df_pivot_reshape_sample = df_pivot_reshape.sample(10000)"
      ],
      "metadata": {
        "id": "YteKHl9VI97o"
      },
      "execution_count": null,
      "outputs": []
    },
    {
      "cell_type": "markdown",
      "source": [
        "Geramos as previsões para cada combinação Escola-Fornecedor:"
      ],
      "metadata": {
        "id": "5bMSXFieLyHA"
      }
    },
    {
      "cell_type": "code",
      "source": [
        "df_pivot_reshape_sample['prediction'] = df_pivot_reshape_sample.apply(lambda x: predict_rating(x['Escola'], x['Fornecedor'], data=pivot_table_mean, indices=indices), axis=1)"
      ],
      "metadata": {
        "id": "cxZt5JyWLltS"
      },
      "execution_count": null,
      "outputs": []
    },
    {
      "cell_type": "markdown",
      "source": [
        "E calculamos as métricas do erro da previsão do modelo de recomendação:"
      ],
      "metadata": {
        "id": "ejb9muE2I9jG"
      }
    },
    {
      "cell_type": "code",
      "source": [
        "print(f\"RMSE = {mean_squared_error(df_pivot_reshape_sample['Avaliação'], df_pivot_reshape_sample['prediction'], squared=False)}\")"
      ],
      "metadata": {
        "id": "XouLykK5MD7j"
      },
      "execution_count": null,
      "outputs": []
    },
    {
      "cell_type": "code",
      "source": [
        "print(f\"MAE = {mean_absolute_error(df_pivot_reshape_sample['Avaliação'], df_pivot_reshape_sample['prediction'])}\")"
      ],
      "metadata": {
        "id": "wSunGJN0Muah"
      },
      "execution_count": null,
      "outputs": []
    },
    {
      "cell_type": "markdown",
      "source": [
        "# Exportando o modelo"
      ],
      "metadata": {
        "id": "az_zQwDKAw2D"
      }
    },
    {
      "cell_type": "markdown",
      "source": [
        "Exportamos o modelo em formato pkl"
      ],
      "metadata": {
        "id": "ibr__WDGNOxl"
      }
    },
    {
      "cell_type": "code",
      "source": [
        "import joblib\n",
        "joblib.dump(knn, 'knn_model.pkl')"
      ],
      "metadata": {
        "id": "RUXFe_nBM28q"
      },
      "execution_count": null,
      "outputs": []
    },
    {
      "cell_type": "markdown",
      "source": [
        "Exportamos também a matriz de avaliação original e a normalizada para gerar as previsões."
      ],
      "metadata": {
        "id": "g-Qdm-kIEniE"
      }
    },
    {
      "cell_type": "code",
      "source": [
        "joblib.dump(pivot_table_mean, 'df_escola_fornecedor_mean.pkl')\n",
        "joblib.dump(df_normalizado, 'df_normalizado_escola_fornecedor_mean.pkl')"
      ],
      "metadata": {
        "id": "8djYkj1vEkzY"
      },
      "execution_count": null,
      "outputs": []
    },
    {
      "cell_type": "markdown",
      "source": [
        "# Utilizando o modelo\n"
      ],
      "metadata": {
        "id": "h9j34JOyBAgZ"
      }
    },
    {
      "cell_type": "markdown",
      "source": [
        "Podemos importar o modelo no formato pkl"
      ],
      "metadata": {
        "id": "TxE6MePgNScR"
      }
    },
    {
      "cell_type": "code",
      "source": [
        "knn_saved = joblib.load('knn_model.pkl')"
      ],
      "metadata": {
        "id": "_WFeL-keNNqT"
      },
      "execution_count": null,
      "outputs": []
    },
    {
      "cell_type": "code",
      "source": [
        "distances_saved, indices_saved = knn_saved.kneighbors(df_normalizado)"
      ],
      "metadata": {
        "id": "qTw4TFIXNebW"
      },
      "execution_count": null,
      "outputs": []
    },
    {
      "cell_type": "markdown",
      "source": [
        "E usamos a mesma função para gerar as previsões:"
      ],
      "metadata": {
        "id": "QDF7YMHNN05v"
      }
    },
    {
      "cell_type": "code",
      "source": [
        "predict_rating('PARQUE OZIEL',\n",
        "               'WEBLABOR SÃO PAULO MATERIAIS DIDÁTICOS LTDA - EPP',\n",
        "               pivot_table_mean,\n",
        "               indices_saved)"
      ],
      "metadata": {
        "id": "erKoEnVFNspQ"
      },
      "execution_count": null,
      "outputs": []
    }
  ]
}